{
  "nbformat": 4,
  "nbformat_minor": 0,
  "metadata": {
    "colab": {
      "name": "Mini Project 4.ipynb",
      "provenance": [],
      "collapsed_sections": [],
      "include_colab_link": true
    },
    "kernelspec": {
      "name": "python3",
      "display_name": "Python 3"
    }
  },
  "cells": [
    {
      "cell_type": "markdown",
      "metadata": {
        "id": "view-in-github",
        "colab_type": "text"
      },
      "source": [
        "<a href=\"https://colab.research.google.com/github/achow6/comparing-Baltimore-Wilton-household-income-python/blob/main/Mini_Project_4.ipynb\" target=\"_parent\"><img src=\"https://colab.research.google.com/assets/colab-badge.svg\" alt=\"Open In Colab\"/></a>"
      ]
    },
    {
      "cell_type": "markdown",
      "metadata": {
        "id": "9p7QeWA_YIvg"
      },
      "source": [
        "# Comparing Household Income in Baltimore, MD and Wilton, CT"
      ]
    },
    {
      "cell_type": "markdown",
      "metadata": {
        "id": "lgJIGkYQYL7v"
      },
      "source": [
        "*   How can parent's household income affect child's household income?\n",
        "*   How is this different between the two cities? How do Wilton and Baltimore compare in terms of household income?"
      ]
    },
    {
      "cell_type": "markdown",
      "metadata": {
        "id": "DDvqeu0nZi__"
      },
      "source": [
        "# Import Libraries"
      ]
    },
    {
      "cell_type": "code",
      "metadata": {
        "id": "XZpaq4K-XaEW"
      },
      "source": [
        "# pip install plotly"
      ],
      "execution_count": null,
      "outputs": []
    },
    {
      "cell_type": "code",
      "metadata": {
        "id": "TdCKq9Q5XpvN"
      },
      "source": [
        "# library for data analysis\n",
        "import pandas as pd\n",
        "from functools import reduce\n",
        "import numpy as np\n",
        "\n",
        "# library for data viz\n",
        "import plotly.express as px\n",
        "import plotly.graph_objects as go"
      ],
      "execution_count": null,
      "outputs": []
    },
    {
      "cell_type": "markdown",
      "metadata": {
        "id": "XwEVWbToc9Gh"
      },
      "source": [
        "# Import Data"
      ]
    },
    {
      "cell_type": "code",
      "metadata": {
        "id": "N35crJ8Zc_EH"
      },
      "source": [
        "# import data - Baltimore\n",
        "\n",
        "df_Bal_general = pd.read_csv(\"https://raw.githubusercontent.com/achow6/comparing-baltimore-wilton-household-income/master/data%20Baltimore%20-%20general.csv\")\n",
        "df_Bal_high = pd.read_csv(\"https://raw.githubusercontent.com/achow6/comparing-baltimore-wilton-household-income/master/data%20Baltimore%20-%20high.csv\")\n",
        "df_Bal_middle = pd.read_csv(\"https://raw.githubusercontent.com/achow6/comparing-baltimore-wilton-household-income/master/data%20Baltimore%20-%20middle.csv\")\n",
        "df_Bal_low = pd.read_csv(\"https://raw.githubusercontent.com/achow6/comparing-baltimore-wilton-household-income/master/data%20Baltimore%20-%20low.csv\")"
      ],
      "execution_count": null,
      "outputs": []
    },
    {
      "cell_type": "code",
      "metadata": {
        "id": "mA8TCVGleT0H"
      },
      "source": [
        "# import data - Wilton\n",
        "\n",
        "df_Wil_general = pd.read_csv(\"https://raw.githubusercontent.com/achow6/comparing-baltimore-wilton-household-income/master/data%20Wilton%20-%20general.csv\")\n",
        "df_Wil_high = pd.read_csv(\"https://raw.githubusercontent.com/achow6/comparing-baltimore-wilton-household-income/master/data%20Wilton%20-%20high.csv\")\n",
        "df_Wil_middle = pd.read_csv(\"https://raw.githubusercontent.com/achow6/comparing-baltimore-wilton-household-income/master/data%20Wilton%20-%20middle.csv\")\n",
        "df_Wil_low = pd.read_csv(\"https://raw.githubusercontent.com/achow6/comparing-baltimore-wilton-household-income/master/data%20Wilton%20-%20low.csv\")"
      ],
      "execution_count": null,
      "outputs": []
    },
    {
      "cell_type": "code",
      "metadata": {
        "id": "iI5lXcXrfa8i",
        "colab": {
          "base_uri": "https://localhost:8080/",
          "height": 669
        },
        "outputId": "7a8bd442-b4d0-44b8-a497-688bc5ea05a8"
      },
      "source": [
        "# preview data\n",
        "\n",
        "df_Bal_general.head(20)"
      ],
      "execution_count": null,
      "outputs": [
        {
          "output_type": "execute_result",
          "data": {
            "text/html": [
              "<div>\n",
              "<style scoped>\n",
              "    .dataframe tbody tr th:only-of-type {\n",
              "        vertical-align: middle;\n",
              "    }\n",
              "\n",
              "    .dataframe tbody tr th {\n",
              "        vertical-align: top;\n",
              "    }\n",
              "\n",
              "    .dataframe thead th {\n",
              "        text-align: right;\n",
              "    }\n",
              "</style>\n",
              "<table border=\"1\" class=\"dataframe\">\n",
              "  <thead>\n",
              "    <tr style=\"text-align: right;\">\n",
              "      <th></th>\n",
              "      <th>tract</th>\n",
              "      <th>Name</th>\n",
              "      <th>Household_Income_rP_gP_pall</th>\n",
              "    </tr>\n",
              "  </thead>\n",
              "  <tbody>\n",
              "    <tr>\n",
              "      <th>0</th>\n",
              "      <td>24005403802</td>\n",
              "      <td>Pikesville, MD</td>\n",
              "      <td>90719.0</td>\n",
              "    </tr>\n",
              "    <tr>\n",
              "      <th>1</th>\n",
              "      <td>24005403803</td>\n",
              "      <td>Pikesville, MD</td>\n",
              "      <td>85716.0</td>\n",
              "    </tr>\n",
              "    <tr>\n",
              "      <th>2</th>\n",
              "      <td>24005490701</td>\n",
              "      <td>Towson, MD</td>\n",
              "      <td>79814.0</td>\n",
              "    </tr>\n",
              "    <tr>\n",
              "      <th>3</th>\n",
              "      <td>24005403801</td>\n",
              "      <td>Baltimore County, MD</td>\n",
              "      <td>78198.0</td>\n",
              "    </tr>\n",
              "    <tr>\n",
              "      <th>4</th>\n",
              "      <td>24027602305</td>\n",
              "      <td>Ellicott City, MD</td>\n",
              "      <td>77955.0</td>\n",
              "    </tr>\n",
              "    <tr>\n",
              "      <th>5</th>\n",
              "      <td>24005490500</td>\n",
              "      <td>Towson, MD</td>\n",
              "      <td>77836.0</td>\n",
              "    </tr>\n",
              "    <tr>\n",
              "      <th>6</th>\n",
              "      <td>24005490400</td>\n",
              "      <td>Towson, MD</td>\n",
              "      <td>76317.0</td>\n",
              "    </tr>\n",
              "    <tr>\n",
              "      <th>7</th>\n",
              "      <td>24005403601</td>\n",
              "      <td>Baltimore, MD</td>\n",
              "      <td>75513.0</td>\n",
              "    </tr>\n",
              "    <tr>\n",
              "      <th>8</th>\n",
              "      <td>24005403500</td>\n",
              "      <td>Pikesville, MD</td>\n",
              "      <td>72847.0</td>\n",
              "    </tr>\n",
              "    <tr>\n",
              "      <th>9</th>\n",
              "      <td>24510271400</td>\n",
              "      <td>Evergreen, Baltimore, MD</td>\n",
              "      <td>71859.0</td>\n",
              "    </tr>\n",
              "    <tr>\n",
              "      <th>10</th>\n",
              "      <td>24005490302</td>\n",
              "      <td>Towson, MD</td>\n",
              "      <td>70445.0</td>\n",
              "    </tr>\n",
              "    <tr>\n",
              "      <th>11</th>\n",
              "      <td>24510271501</td>\n",
              "      <td>Mount Washington, Baltimore, MD</td>\n",
              "      <td>69634.0</td>\n",
              "    </tr>\n",
              "    <tr>\n",
              "      <th>12</th>\n",
              "      <td>24027602100</td>\n",
              "      <td>Ellicott City, MD</td>\n",
              "      <td>69541.0</td>\n",
              "    </tr>\n",
              "    <tr>\n",
              "      <th>13</th>\n",
              "      <td>24005491000</td>\n",
              "      <td>Baltimore, MD</td>\n",
              "      <td>68851.0</td>\n",
              "    </tr>\n",
              "    <tr>\n",
              "      <th>14</th>\n",
              "      <td>24005490100</td>\n",
              "      <td>Towson, MD</td>\n",
              "      <td>68691.0</td>\n",
              "    </tr>\n",
              "    <tr>\n",
              "      <th>15</th>\n",
              "      <td>24510271300</td>\n",
              "      <td>Roland Park, Baltimore, MD</td>\n",
              "      <td>68340.0</td>\n",
              "    </tr>\n",
              "    <tr>\n",
              "      <th>16</th>\n",
              "      <td>24027602202</td>\n",
              "      <td>Ellicott City, MD</td>\n",
              "      <td>67481.0</td>\n",
              "    </tr>\n",
              "    <tr>\n",
              "      <th>17</th>\n",
              "      <td>24027601104</td>\n",
              "      <td>Ellicott City, MD</td>\n",
              "      <td>67394.0</td>\n",
              "    </tr>\n",
              "    <tr>\n",
              "      <th>18</th>\n",
              "      <td>24027602700</td>\n",
              "      <td>Taylor Village, Ellicott City, MD</td>\n",
              "      <td>67058.0</td>\n",
              "    </tr>\n",
              "    <tr>\n",
              "      <th>19</th>\n",
              "      <td>24510271200</td>\n",
              "      <td>Homeland, Baltimore, MD</td>\n",
              "      <td>66907.0</td>\n",
              "    </tr>\n",
              "  </tbody>\n",
              "</table>\n",
              "</div>"
            ],
            "text/plain": [
              "          tract                               Name  Household_Income_rP_gP_pall\n",
              "0   24005403802                     Pikesville, MD                      90719.0\n",
              "1   24005403803                     Pikesville, MD                      85716.0\n",
              "2   24005490701                         Towson, MD                      79814.0\n",
              "3   24005403801               Baltimore County, MD                      78198.0\n",
              "4   24027602305                  Ellicott City, MD                      77955.0\n",
              "5   24005490500                         Towson, MD                      77836.0\n",
              "6   24005490400                         Towson, MD                      76317.0\n",
              "7   24005403601                      Baltimore, MD                      75513.0\n",
              "8   24005403500                     Pikesville, MD                      72847.0\n",
              "9   24510271400           Evergreen, Baltimore, MD                      71859.0\n",
              "10  24005490302                         Towson, MD                      70445.0\n",
              "11  24510271501    Mount Washington, Baltimore, MD                      69634.0\n",
              "12  24027602100                  Ellicott City, MD                      69541.0\n",
              "13  24005491000                      Baltimore, MD                      68851.0\n",
              "14  24005490100                         Towson, MD                      68691.0\n",
              "15  24510271300         Roland Park, Baltimore, MD                      68340.0\n",
              "16  24027602202                  Ellicott City, MD                      67481.0\n",
              "17  24027601104                  Ellicott City, MD                      67394.0\n",
              "18  24027602700  Taylor Village, Ellicott City, MD                      67058.0\n",
              "19  24510271200            Homeland, Baltimore, MD                      66907.0"
            ]
          },
          "metadata": {
            "tags": []
          },
          "execution_count": 231
        }
      ]
    },
    {
      "cell_type": "code",
      "metadata": {
        "id": "Q_7EMSsJhIos",
        "colab": {
          "base_uri": "https://localhost:8080/"
        },
        "outputId": "91dbc703-61ad-4c5e-b9a0-0152b6648bb0"
      },
      "source": [
        "# check information\n",
        "\n",
        "df_Bal_general.info()"
      ],
      "execution_count": null,
      "outputs": [
        {
          "output_type": "stream",
          "text": [
            "<class 'pandas.core.frame.DataFrame'>\n",
            "RangeIndex: 432 entries, 0 to 431\n",
            "Data columns (total 3 columns):\n",
            " #   Column                       Non-Null Count  Dtype  \n",
            "---  ------                       --------------  -----  \n",
            " 0   tract                        432 non-null    int64  \n",
            " 1   Name                         432 non-null    object \n",
            " 2   Household_Income_rP_gP_pall  427 non-null    float64\n",
            "dtypes: float64(1), int64(1), object(1)\n",
            "memory usage: 10.2+ KB\n"
          ],
          "name": "stdout"
        }
      ]
    },
    {
      "cell_type": "markdown",
      "metadata": {
        "id": "rxmcypyNhHey"
      },
      "source": [
        "# Filter Data for Baltimore City & Wilton Only"
      ]
    },
    {
      "cell_type": "code",
      "metadata": {
        "id": "kurXrtP3f9ua",
        "colab": {
          "base_uri": "https://localhost:8080/"
        },
        "outputId": "daa941f4-1e85-4069-c314-4d85f0da96bc"
      },
      "source": [
        "# look at all Baltimore column names\n",
        "\n",
        "df_Bal_general.columns"
      ],
      "execution_count": null,
      "outputs": [
        {
          "output_type": "execute_result",
          "data": {
            "text/plain": [
              "Index(['tract', 'Name', 'Household_Income_rP_gP_pall'], dtype='object')"
            ]
          },
          "metadata": {
            "tags": []
          },
          "execution_count": 233
        }
      ]
    },
    {
      "cell_type": "code",
      "metadata": {
        "id": "7-sCFByEhxcT",
        "colab": {
          "base_uri": "https://localhost:8080/"
        },
        "outputId": "c8c30033-2c1b-4cee-9dd9-ee7be5808183"
      },
      "source": [
        "# look at unique values in Baltimore \"Name\"\n",
        "\n",
        "df_Bal_general[\"Name\"].unique()"
      ],
      "execution_count": null,
      "outputs": [
        {
          "output_type": "execute_result",
          "data": {
            "text/plain": [
              "array(['Pikesville, MD', 'Towson, MD', 'Baltimore County, MD',\n",
              "       'Ellicott City, MD', 'Baltimore, MD', 'Evergreen, Baltimore, MD',\n",
              "       'Mount Washington, Baltimore, MD', 'Roland Park, Baltimore, MD',\n",
              "       'Taylor Village, Ellicott City, MD', 'Homeland, Baltimore, MD',\n",
              "       'Owings Mills, MD', 'Catonsville, MD',\n",
              "       'Dunloggin, Ellicott City, MD', 'Kings Contrivance, Columbia, MD',\n",
              "       'Perry Hall, MD', 'Nottingham, MD', 'Mid-Charles, Baltimore, MD',\n",
              "       'Columbia, MD', 'Owen Brown, Columbia, MD',\n",
              "       'Oakland Mills, Columbia, MD', 'Parkville, MD',\n",
              "       'Tuscany - Canterbury, Baltimore, MD',\n",
              "       'Kendall Ridge, Columbia, MD', 'Kingsville, MD',\n",
              "       'Linthicum Heights, MD', 'Relay, Halethorpe, MD',\n",
              "       'West Elkridge, Elkridge, MD', 'Long Reach, Columbia, MD',\n",
              "       'Severn, MD', 'Randallstown, MD', 'Pasadena, MD',\n",
              "       'Cross Country, Baltimore, MD', 'Fells Point, Baltimore, MD',\n",
              "       'Middle River, MD', 'Elkridge, MD', 'Rosedale, MD', 'Hanover, MD',\n",
              "       'Savage, Savage, MD', 'Green Haven, Pasadena, MD',\n",
              "       'Riverside, Baltimore, MD', 'Normandy, Ellicott City, MD',\n",
              "       'North Harford Road, Baltimore, MD', 'Dundalk, MD',\n",
              "       'Halethorpe, MD', 'Glen Burnie, MD', 'White Marsh, MD',\n",
              "       'Edgemere, MD', 'Cheswolde, Baltimore, MD', 'Essex, MD',\n",
              "       'Woodring, Baltimore, MD', 'South Gate, Glen Burnie, MD',\n",
              "       'Harford County, MD', 'Sparrows Point, MD',\n",
              "       'Cross Keys, Baltimore, MD', 'Lochearn, Pikesville, MD',\n",
              "       'Riviera Beach, MD', 'Brooklyn Park, MD', 'Canton, Baltimore, MD',\n",
              "       'Chestnut Hill Cove, Riviera Beach, MD', 'Savage, Jessup, MD',\n",
              "       'Glenham-Belford, Baltimore, MD', 'Locust Point, Baltimore, MD',\n",
              "       'Lake Walker, Baltimore, MD', 'Violetville, Baltimore, MD',\n",
              "       'Waltherson, Baltimore, MD',\n",
              "       'Lansdowne - Baltimore Highlands, Halethorpe, MD',\n",
              "       'Waterloo, Elkridge, MD', 'Arcadia, Baltimore, MD',\n",
              "       'Radnor - Winston, Baltimore, MD', 'Gwynn Oak, Pikesville, MD',\n",
              "       'Harford - Echodale - Perring Parkway, Baltimore, MD',\n",
              "       'Lansdowne - Baltimore Highlands, Lansdowne, MD',\n",
              "       'Glen, Baltimore, MD', 'Windsor Mill, Baltimore, MD',\n",
              "       'Hampden, Baltimore, MD', 'Cold Springs, Baltimore, MD',\n",
              "       'Lauraville, Baltimore, MD', 'Fallstaff, Baltimore, MD',\n",
              "       'Westgate, Baltimore, MD', 'Bolton Hill, Baltimore, MD',\n",
              "       'Riverside Park, Baltimore, MD', 'Woodlawn, MD',\n",
              "       'Brooklyn, Baltimore, MD', 'Joseph Lee, Baltimore, MD',\n",
              "       'Medfield, Baltimore, MD', 'Windsor Mill, Milford Mill, MD',\n",
              "       'Gwynn Oak, Woodlawn, MD', 'Gwynn Oak, Baltimore, MD',\n",
              "       'Medford - Broening, Baltimore, MD', 'Cedmont, Baltimore, MD',\n",
              "       'South Baltimore, Baltimore, MD', 'Gwynn Oak, Lochearn, MD',\n",
              "       'Morrell Park, Baltimore, MD', 'Upper Fells Point, Baltimore, MD',\n",
              "       'Downtown, Baltimore, MD', 'Woodberry, Baltimore, MD',\n",
              "       'Fifteenth Street, Baltimore, MD', 'Hillen, Baltimore, MD',\n",
              "       'Belair - Edison, Baltimore, MD',\n",
              "       'Ednor Gardens - Lakeside, Baltimore, MD',\n",
              "       'Ramblewood, Baltimore, MD', 'Patterson Park, Baltimore, MD',\n",
              "       'Frankford, Baltimore, MD', 'Loch Raven, Baltimore, MD',\n",
              "       'Baltimore Highlands, Baltimore, MD',\n",
              "       'Armistead Gardens, Baltimore, MD', 'Idlewood, Baltimore, MD',\n",
              "       'Perring Loch, Baltimore, MD', 'East Arlington, Baltimore, MD',\n",
              "       'Beechfield, Baltimore, MD', 'New Northwood, Baltimore, MD',\n",
              "       'Mid-Govans, Baltimore, MD', 'Little Italy, Baltimore, MD',\n",
              "       'Rognel Heights, Baltimore, MD', 'Walbrook, Baltimore, MD',\n",
              "       'Irvington, Baltimore, MD', 'West Forest Park, Baltimore, MD',\n",
              "       'Hanlon Longwood, Baltimore, MD', 'Lakeland, Baltimore, MD',\n",
              "       'Parkside, Baltimore, MD', 'Yale Heights, Baltimore, MD',\n",
              "       'Garwyn Oaks, Baltimore, MD', 'Pigtown, Baltimore, MD',\n",
              "       'Remington, Baltimore, MD', 'Allendale, Baltimore, MD',\n",
              "       'Windsor Hills, Baltimore, MD', 'Curtis Bay, Baltimore, MD',\n",
              "       'Burleith-Leighton, Baltimore, MD',\n",
              "       'Winston - Govans, Baltimore, MD', 'Better Waverly, Baltimore, MD',\n",
              "       'Reisterstown Station, Baltimore, MD', 'Edmondson, Baltimore, MD',\n",
              "       'Dorchester, Baltimore, MD', 'Central Park Heights, Baltimore, MD',\n",
              "       'Woodbrook, Baltimore, MD', 'Old Goucher, Baltimore, MD',\n",
              "       \"Saint Joseph's, Baltimore, MD\", 'Darley Park, Baltimore, MD',\n",
              "       'Poppleton, Baltimore, MD', 'Cedonia, Baltimore, MD',\n",
              "       'Arlington, Baltimore, MD', 'Mosher, Baltimore, MD',\n",
              "       'Coppin Heights, Baltimore, MD', 'Harwood, Baltimore, MD',\n",
              "       'Hollins Market, Baltimore, MD', 'Park Circle, Baltimore, MD',\n",
              "       'Cherry Hill, Baltimore, MD',\n",
              "       'Bridgeview-Greenlawn, Baltimore, MD',\n",
              "       'Coldstream - Homestead - Montebello, Baltimore, MD',\n",
              "       'Berea, Baltimore, MD', 'Rosemont, Baltimore, MD',\n",
              "       'Lexington, Baltimore, MD', 'Edgecomb, Baltimore, MD',\n",
              "       'Reservoir Hill, Baltimore, MD', 'Pratt Monroe, Baltimore, MD',\n",
              "       'Greenmount West, Baltimore, MD', 'Barclay, Baltimore, MD',\n",
              "       'Langston Hughes, Baltimore, MD', 'Butchers Hill, Baltimore, MD',\n",
              "       'Broadway East, Baltimore, MD', 'Penn North, Baltimore, MD',\n",
              "       'Mondawmin, Baltimore, MD', 'Harlem Park, Baltimore, MD',\n",
              "       'Sandtown-Winchester, Baltimore, MD',\n",
              "       'NW Community Action, Baltimore, MD', 'Mill Hill, Baltimore, MD',\n",
              "       'Madison - Eastend, Baltimore, MD', 'Perkins Homes, Baltimore, MD',\n",
              "       'Midtown Edmondson, Baltimore, MD', 'Mount Clare, Baltimore, MD',\n",
              "       'East Baltimore Midway, Baltimore, MD',\n",
              "       \"O'Donnell Heights, Baltimore, MD\", 'Upton, Baltimore, MD',\n",
              "       'Gay Street, Baltimore, MD', 'Bentalou-Smallwood, Baltimore, MD',\n",
              "       'Oliver, Baltimore, MD', 'Westport, Baltimore, MD',\n",
              "       'McCulloh Homes, Baltimore, MD',\n",
              "       'Claremont - Freedom, Baltimore, MD',\n",
              "       'Druid Heights, Baltimore, MD',\n",
              "       'Pleasant View Gardens, Baltimore, MD',\n",
              "       'Franklin Square, Baltimore, MD', 'Shipley Hill, Baltimore, MD',\n",
              "       'Johnson Square, Baltimore, MD',\n",
              "       'Milton - Montford, Baltimore, MD',\n",
              "       'Penn - Fallsway, Baltimore, MD'], dtype=object)"
            ]
          },
          "metadata": {
            "tags": []
          },
          "execution_count": 234
        }
      ]
    },
    {
      "cell_type": "code",
      "metadata": {
        "id": "Da8Hv5vWiT2J"
      },
      "source": [
        "# data for Baltimore City only\n",
        "\n",
        "df_Bmore_general = df_Bal_general[df_Bal_general[\"Name\"].str.contains(\"Baltimore, MD\")]\n",
        "df_Bmore_high = df_Bal_high[df_Bal_high[\"Name\"].str.contains(\"Baltimore, MD\")]\n",
        "df_Bmore_middle = df_Bal_middle[df_Bal_middle[\"Name\"].str.contains(\"Baltimore, MD\")]\n",
        "df_Bmore_low = df_Bal_low[df_Bal_low[\"Name\"].str.contains(\"Baltimore, MD\")]"
      ],
      "execution_count": null,
      "outputs": []
    },
    {
      "cell_type": "code",
      "metadata": {
        "id": "36fOnuVAizoC",
        "colab": {
          "base_uri": "https://localhost:8080/",
          "height": 359
        },
        "outputId": "f17e8ea1-5f38-4133-958b-4c6fd5e92fec"
      },
      "source": [
        "# preview data\n",
        "\n",
        "df_Bmore_general.head(10)"
      ],
      "execution_count": null,
      "outputs": [
        {
          "output_type": "execute_result",
          "data": {
            "text/html": [
              "<div>\n",
              "<style scoped>\n",
              "    .dataframe tbody tr th:only-of-type {\n",
              "        vertical-align: middle;\n",
              "    }\n",
              "\n",
              "    .dataframe tbody tr th {\n",
              "        vertical-align: top;\n",
              "    }\n",
              "\n",
              "    .dataframe thead th {\n",
              "        text-align: right;\n",
              "    }\n",
              "</style>\n",
              "<table border=\"1\" class=\"dataframe\">\n",
              "  <thead>\n",
              "    <tr style=\"text-align: right;\">\n",
              "      <th></th>\n",
              "      <th>tract</th>\n",
              "      <th>Name</th>\n",
              "      <th>Household_Income_rP_gP_pall</th>\n",
              "    </tr>\n",
              "  </thead>\n",
              "  <tbody>\n",
              "    <tr>\n",
              "      <th>7</th>\n",
              "      <td>24005403601</td>\n",
              "      <td>Baltimore, MD</td>\n",
              "      <td>75513.0</td>\n",
              "    </tr>\n",
              "    <tr>\n",
              "      <th>9</th>\n",
              "      <td>24510271400</td>\n",
              "      <td>Evergreen, Baltimore, MD</td>\n",
              "      <td>71859.0</td>\n",
              "    </tr>\n",
              "    <tr>\n",
              "      <th>11</th>\n",
              "      <td>24510271501</td>\n",
              "      <td>Mount Washington, Baltimore, MD</td>\n",
              "      <td>69634.0</td>\n",
              "    </tr>\n",
              "    <tr>\n",
              "      <th>13</th>\n",
              "      <td>24005491000</td>\n",
              "      <td>Baltimore, MD</td>\n",
              "      <td>68851.0</td>\n",
              "    </tr>\n",
              "    <tr>\n",
              "      <th>15</th>\n",
              "      <td>24510271300</td>\n",
              "      <td>Roland Park, Baltimore, MD</td>\n",
              "      <td>68340.0</td>\n",
              "    </tr>\n",
              "    <tr>\n",
              "      <th>19</th>\n",
              "      <td>24510271200</td>\n",
              "      <td>Homeland, Baltimore, MD</td>\n",
              "      <td>66907.0</td>\n",
              "    </tr>\n",
              "    <tr>\n",
              "      <th>27</th>\n",
              "      <td>24005490601</td>\n",
              "      <td>Baltimore, MD</td>\n",
              "      <td>64049.0</td>\n",
              "    </tr>\n",
              "    <tr>\n",
              "      <th>29</th>\n",
              "      <td>24005490603</td>\n",
              "      <td>Baltimore, MD</td>\n",
              "      <td>63507.0</td>\n",
              "    </tr>\n",
              "    <tr>\n",
              "      <th>30</th>\n",
              "      <td>24510271102</td>\n",
              "      <td>Mid-Charles, Baltimore, MD</td>\n",
              "      <td>62714.0</td>\n",
              "    </tr>\n",
              "    <tr>\n",
              "      <th>37</th>\n",
              "      <td>24510120100</td>\n",
              "      <td>Tuscany - Canterbury, Baltimore, MD</td>\n",
              "      <td>60859.0</td>\n",
              "    </tr>\n",
              "  </tbody>\n",
              "</table>\n",
              "</div>"
            ],
            "text/plain": [
              "          tract  ... Household_Income_rP_gP_pall\n",
              "7   24005403601  ...                     75513.0\n",
              "9   24510271400  ...                     71859.0\n",
              "11  24510271501  ...                     69634.0\n",
              "13  24005491000  ...                     68851.0\n",
              "15  24510271300  ...                     68340.0\n",
              "19  24510271200  ...                     66907.0\n",
              "27  24005490601  ...                     64049.0\n",
              "29  24005490603  ...                     63507.0\n",
              "30  24510271102  ...                     62714.0\n",
              "37  24510120100  ...                     60859.0\n",
              "\n",
              "[10 rows x 3 columns]"
            ]
          },
          "metadata": {
            "tags": []
          },
          "execution_count": 236
        }
      ]
    },
    {
      "cell_type": "code",
      "metadata": {
        "id": "o44gq28BiEwv",
        "colab": {
          "base_uri": "https://localhost:8080/"
        },
        "outputId": "edc2e9cd-8cf4-460d-c7b2-7ebad4445674"
      },
      "source": [
        "# look at all Wilton column names\n",
        "\n",
        "df_Wil_general.columns"
      ],
      "execution_count": null,
      "outputs": [
        {
          "output_type": "execute_result",
          "data": {
            "text/plain": [
              "Index(['tract', 'Name', 'Household_Income_rP_gP_pall'], dtype='object')"
            ]
          },
          "metadata": {
            "tags": []
          },
          "execution_count": 237
        }
      ]
    },
    {
      "cell_type": "code",
      "metadata": {
        "id": "UYVMBUdBh8in",
        "colab": {
          "base_uri": "https://localhost:8080/"
        },
        "outputId": "e9dc2d48-0ab6-4ef2-ac2b-bab33702fdae"
      },
      "source": [
        "# look at unique values in Wilton \"Name\"\n",
        "\n",
        "df_Wil_general[\"Name\"].unique()"
      ],
      "execution_count": null,
      "outputs": [
        {
          "output_type": "execute_result",
          "data": {
            "text/plain": [
              "array(['New Canaan, CT', 'Wilton, CT', 'Fairfield, CT',\n",
              "       'North Stamford, Stamford, CT', 'Westport, CT', 'Ridgefield, CT',\n",
              "       'Pound Ridge, NY', 'Norwalk, CT', 'Weston, CT', 'South Salem, NY',\n",
              "       'Redding, CT', 'Easton, CT'], dtype=object)"
            ]
          },
          "metadata": {
            "tags": []
          },
          "execution_count": 238
        }
      ]
    },
    {
      "cell_type": "code",
      "metadata": {
        "id": "ujkliSjbi5E-"
      },
      "source": [
        "# data for Wilton only\n",
        "\n",
        "df_Wilton_general = df_Wil_general[df_Wil_general[\"Name\"] == \"Wilton, CT\"]\n",
        "df_Wilton_high = df_Wil_high[df_Wil_high[\"Name\"] == \"Wilton, CT\"]\n",
        "df_Wilton_middle = df_Wil_middle[df_Wil_middle[\"Name\"] == \"Wilton, CT\"]\n",
        "df_Wilton_low = df_Wil_low[df_Wil_low[\"Name\"] == \"Wilton, CT\"]"
      ],
      "execution_count": null,
      "outputs": []
    },
    {
      "cell_type": "code",
      "metadata": {
        "id": "cYhA2dgtkFKD",
        "colab": {
          "base_uri": "https://localhost:8080/",
          "height": 204
        },
        "outputId": "d22e4a12-c64a-4c6c-b506-95f4218f311d"
      },
      "source": [
        "# preview data\n",
        "\n",
        "df_Wilton_low.head(5)"
      ],
      "execution_count": null,
      "outputs": [
        {
          "output_type": "execute_result",
          "data": {
            "text/html": [
              "<div>\n",
              "<style scoped>\n",
              "    .dataframe tbody tr th:only-of-type {\n",
              "        vertical-align: middle;\n",
              "    }\n",
              "\n",
              "    .dataframe tbody tr th {\n",
              "        vertical-align: top;\n",
              "    }\n",
              "\n",
              "    .dataframe thead th {\n",
              "        text-align: right;\n",
              "    }\n",
              "</style>\n",
              "<table border=\"1\" class=\"dataframe\">\n",
              "  <thead>\n",
              "    <tr style=\"text-align: right;\">\n",
              "      <th></th>\n",
              "      <th>tract</th>\n",
              "      <th>Name</th>\n",
              "      <th>Household_Income_rP_gP_p25</th>\n",
              "    </tr>\n",
              "  </thead>\n",
              "  <tbody>\n",
              "    <tr>\n",
              "      <th>0</th>\n",
              "      <td>9001045300</td>\n",
              "      <td>Wilton, CT</td>\n",
              "      <td>76063</td>\n",
              "    </tr>\n",
              "    <tr>\n",
              "      <th>1</th>\n",
              "      <td>9001045200</td>\n",
              "      <td>Wilton, CT</td>\n",
              "      <td>67466</td>\n",
              "    </tr>\n",
              "    <tr>\n",
              "      <th>10</th>\n",
              "      <td>9001045101</td>\n",
              "      <td>Wilton, CT</td>\n",
              "      <td>49854</td>\n",
              "    </tr>\n",
              "    <tr>\n",
              "      <th>18</th>\n",
              "      <td>9001045102</td>\n",
              "      <td>Wilton, CT</td>\n",
              "      <td>46630</td>\n",
              "    </tr>\n",
              "    <tr>\n",
              "      <th>22</th>\n",
              "      <td>9001045400</td>\n",
              "      <td>Wilton, CT</td>\n",
              "      <td>41668</td>\n",
              "    </tr>\n",
              "  </tbody>\n",
              "</table>\n",
              "</div>"
            ],
            "text/plain": [
              "         tract        Name  Household_Income_rP_gP_p25\n",
              "0   9001045300  Wilton, CT                       76063\n",
              "1   9001045200  Wilton, CT                       67466\n",
              "10  9001045101  Wilton, CT                       49854\n",
              "18  9001045102  Wilton, CT                       46630\n",
              "22  9001045400  Wilton, CT                       41668"
            ]
          },
          "metadata": {
            "tags": []
          },
          "execution_count": 240
        }
      ]
    },
    {
      "cell_type": "markdown",
      "metadata": {
        "id": "9OVPsZTlrTqY"
      },
      "source": [
        "# Merge Datasets"
      ]
    },
    {
      "cell_type": "code",
      "metadata": {
        "id": "P5Q1NfBK_YKO"
      },
      "source": [
        "# compile list of dataframes to merge (Wilton)\n",
        "\n",
        "data_frames_Wil = [df_Wilton_general, df_Wilton_high, df_Wilton_middle, df_Wilton_low]"
      ],
      "execution_count": null,
      "outputs": []
    },
    {
      "cell_type": "code",
      "metadata": {
        "id": "aad5SkFYkfPu"
      },
      "source": [
        "# merge Wilton datasets\n",
        "\n",
        "df_Wil_merge = reduce(lambda  left,right: pd.merge(left,right,on=[\"Name\", \"tract\"],\n",
        "                                            how=\"left\"), data_frames_Wil).fillna('void')"
      ],
      "execution_count": null,
      "outputs": []
    },
    {
      "cell_type": "code",
      "metadata": {
        "id": "Yjr6vo_DviQ3",
        "colab": {
          "base_uri": "https://localhost:8080/",
          "height": 309
        },
        "outputId": "177c79ab-9b2f-4c70-fd9e-318a6de440a2"
      },
      "source": [
        "# preview data\n",
        "\n",
        "df_Wil_merge.tail(5)"
      ],
      "execution_count": null,
      "outputs": [
        {
          "output_type": "execute_result",
          "data": {
            "text/html": [
              "<div>\n",
              "<style scoped>\n",
              "    .dataframe tbody tr th:only-of-type {\n",
              "        vertical-align: middle;\n",
              "    }\n",
              "\n",
              "    .dataframe tbody tr th {\n",
              "        vertical-align: top;\n",
              "    }\n",
              "\n",
              "    .dataframe thead th {\n",
              "        text-align: right;\n",
              "    }\n",
              "</style>\n",
              "<table border=\"1\" class=\"dataframe\">\n",
              "  <thead>\n",
              "    <tr style=\"text-align: right;\">\n",
              "      <th></th>\n",
              "      <th>tract</th>\n",
              "      <th>Name</th>\n",
              "      <th>Household_Income_rP_gP_pall</th>\n",
              "      <th>Household_Income_rP_gP_p75</th>\n",
              "      <th>Household_Income_rP_gP_p50</th>\n",
              "      <th>Household_Income_rP_gP_p25</th>\n",
              "    </tr>\n",
              "  </thead>\n",
              "  <tbody>\n",
              "    <tr>\n",
              "      <th>0</th>\n",
              "      <td>9001045101</td>\n",
              "      <td>Wilton, CT</td>\n",
              "      <td>81858</td>\n",
              "      <td>69307</td>\n",
              "      <td>59112</td>\n",
              "      <td>49854</td>\n",
              "    </tr>\n",
              "    <tr>\n",
              "      <th>1</th>\n",
              "      <td>9001045200</td>\n",
              "      <td>Wilton, CT</td>\n",
              "      <td>79370</td>\n",
              "      <td>75613</td>\n",
              "      <td>71530</td>\n",
              "      <td>67466</td>\n",
              "    </tr>\n",
              "    <tr>\n",
              "      <th>2</th>\n",
              "      <td>9001045300</td>\n",
              "      <td>Wilton, CT</td>\n",
              "      <td>76750</td>\n",
              "      <td>78289</td>\n",
              "      <td>77189</td>\n",
              "      <td>76063</td>\n",
              "    </tr>\n",
              "    <tr>\n",
              "      <th>3</th>\n",
              "      <td>9001045400</td>\n",
              "      <td>Wilton, CT</td>\n",
              "      <td>74423</td>\n",
              "      <td>63195</td>\n",
              "      <td>51703</td>\n",
              "      <td>41668</td>\n",
              "    </tr>\n",
              "    <tr>\n",
              "      <th>4</th>\n",
              "      <td>9001045102</td>\n",
              "      <td>Wilton, CT</td>\n",
              "      <td>74327</td>\n",
              "      <td>64564</td>\n",
              "      <td>55151</td>\n",
              "      <td>46630</td>\n",
              "    </tr>\n",
              "  </tbody>\n",
              "</table>\n",
              "</div>"
            ],
            "text/plain": [
              "        tract  ... Household_Income_rP_gP_p25\n",
              "0  9001045101  ...                      49854\n",
              "1  9001045200  ...                      67466\n",
              "2  9001045300  ...                      76063\n",
              "3  9001045400  ...                      41668\n",
              "4  9001045102  ...                      46630\n",
              "\n",
              "[5 rows x 6 columns]"
            ]
          },
          "metadata": {
            "tags": []
          },
          "execution_count": 243
        }
      ]
    },
    {
      "cell_type": "code",
      "metadata": {
        "id": "O2Xih_tzAf1q"
      },
      "source": [
        "# compile list of dataframes to merge (Baltimore)\n",
        "\n",
        "data_frames_Bal = [df_Bmore_general, df_Bmore_high, df_Bmore_middle, df_Bmore_low]"
      ],
      "execution_count": null,
      "outputs": []
    },
    {
      "cell_type": "code",
      "metadata": {
        "id": "nSRfu10qssWk"
      },
      "source": [
        "# merge Baltimore datasets\n",
        "\n",
        "df_Bal_merge = reduce(lambda  left,right: pd.merge(left,right,on=[\"Name\", \"tract\"],\n",
        "                                            how=\"left\"), data_frames_Bal).fillna('void')"
      ],
      "execution_count": null,
      "outputs": []
    },
    {
      "cell_type": "code",
      "metadata": {
        "id": "G_xH1f4g4Utr",
        "colab": {
          "base_uri": "https://localhost:8080/",
          "height": 719
        },
        "outputId": "e5f6b181-bb2c-4fb1-eda2-61d71f2a9073"
      },
      "source": [
        "df_Bal_merge.head(10)"
      ],
      "execution_count": null,
      "outputs": [
        {
          "output_type": "execute_result",
          "data": {
            "text/html": [
              "<div>\n",
              "<style scoped>\n",
              "    .dataframe tbody tr th:only-of-type {\n",
              "        vertical-align: middle;\n",
              "    }\n",
              "\n",
              "    .dataframe tbody tr th {\n",
              "        vertical-align: top;\n",
              "    }\n",
              "\n",
              "    .dataframe thead th {\n",
              "        text-align: right;\n",
              "    }\n",
              "</style>\n",
              "<table border=\"1\" class=\"dataframe\">\n",
              "  <thead>\n",
              "    <tr style=\"text-align: right;\">\n",
              "      <th></th>\n",
              "      <th>tract</th>\n",
              "      <th>Name</th>\n",
              "      <th>Household_Income_rP_gP_pall</th>\n",
              "      <th>Household_Income_rP_gP_p75</th>\n",
              "      <th>Household_Income_rP_gP_p50</th>\n",
              "      <th>Household_Income_rP_gP_p25</th>\n",
              "    </tr>\n",
              "  </thead>\n",
              "  <tbody>\n",
              "    <tr>\n",
              "      <th>0</th>\n",
              "      <td>24005403601</td>\n",
              "      <td>Baltimore, MD</td>\n",
              "      <td>75513</td>\n",
              "      <td>72321</td>\n",
              "      <td>62646</td>\n",
              "      <td>53687</td>\n",
              "    </tr>\n",
              "    <tr>\n",
              "      <th>1</th>\n",
              "      <td>24510271400</td>\n",
              "      <td>Evergreen, Baltimore, MD</td>\n",
              "      <td>71859</td>\n",
              "      <td>66504</td>\n",
              "      <td>58239</td>\n",
              "      <td>50567</td>\n",
              "    </tr>\n",
              "    <tr>\n",
              "      <th>2</th>\n",
              "      <td>24510271501</td>\n",
              "      <td>Mount Washington, Baltimore, MD</td>\n",
              "      <td>69634</td>\n",
              "      <td>64860</td>\n",
              "      <td>55109</td>\n",
              "      <td>46323</td>\n",
              "    </tr>\n",
              "    <tr>\n",
              "      <th>3</th>\n",
              "      <td>24005491000</td>\n",
              "      <td>Baltimore, MD</td>\n",
              "      <td>68851</td>\n",
              "      <td>67867</td>\n",
              "      <td>void</td>\n",
              "      <td>61635</td>\n",
              "    </tr>\n",
              "    <tr>\n",
              "      <th>4</th>\n",
              "      <td>24510271300</td>\n",
              "      <td>Roland Park, Baltimore, MD</td>\n",
              "      <td>68340</td>\n",
              "      <td>54760</td>\n",
              "      <td>41273</td>\n",
              "      <td>29553</td>\n",
              "    </tr>\n",
              "    <tr>\n",
              "      <th>5</th>\n",
              "      <td>24510271200</td>\n",
              "      <td>Homeland, Baltimore, MD</td>\n",
              "      <td>66907</td>\n",
              "      <td>60343</td>\n",
              "      <td>49581</td>\n",
              "      <td>40094</td>\n",
              "    </tr>\n",
              "    <tr>\n",
              "      <th>6</th>\n",
              "      <td>24005490601</td>\n",
              "      <td>Baltimore, MD</td>\n",
              "      <td>64049</td>\n",
              "      <td>63814</td>\n",
              "      <td>57371</td>\n",
              "      <td>51258</td>\n",
              "    </tr>\n",
              "    <tr>\n",
              "      <th>7</th>\n",
              "      <td>24005490603</td>\n",
              "      <td>Baltimore, MD</td>\n",
              "      <td>63507</td>\n",
              "      <td>60709</td>\n",
              "      <td>55883</td>\n",
              "      <td>51212</td>\n",
              "    </tr>\n",
              "    <tr>\n",
              "      <th>8</th>\n",
              "      <td>24510271102</td>\n",
              "      <td>Mid-Charles, Baltimore, MD</td>\n",
              "      <td>62714</td>\n",
              "      <td>54886</td>\n",
              "      <td>38494</td>\n",
              "      <td>24403</td>\n",
              "    </tr>\n",
              "    <tr>\n",
              "      <th>9</th>\n",
              "      <td>24510120100</td>\n",
              "      <td>Tuscany - Canterbury, Baltimore, MD</td>\n",
              "      <td>60859</td>\n",
              "      <td>52921</td>\n",
              "      <td>40214</td>\n",
              "      <td>28995</td>\n",
              "    </tr>\n",
              "  </tbody>\n",
              "</table>\n",
              "</div>"
            ],
            "text/plain": [
              "         tract  ... Household_Income_rP_gP_p25\n",
              "0  24005403601  ...                      53687\n",
              "1  24510271400  ...                      50567\n",
              "2  24510271501  ...                      46323\n",
              "3  24005491000  ...                      61635\n",
              "4  24510271300  ...                      29553\n",
              "5  24510271200  ...                      40094\n",
              "6  24005490601  ...                      51258\n",
              "7  24005490603  ...                      51212\n",
              "8  24510271102  ...                      24403\n",
              "9  24510120100  ...                      28995\n",
              "\n",
              "[10 rows x 6 columns]"
            ]
          },
          "metadata": {
            "tags": []
          },
          "execution_count": 246
        }
      ]
    },
    {
      "cell_type": "code",
      "metadata": {
        "id": "zjMDoxJctYDJ"
      },
      "source": [
        "# change everything in name column to Baltimore, MD\n",
        "\n",
        "df_Bal_merge[\"Name\"] = np.where(df_Bal_merge[\"Name\"] == df_Bal_merge[\"Name\"].str.contains(\"Baltimore, MD\"), \"Baltimore, MD\", \"Baltimore, MD\")"
      ],
      "execution_count": null,
      "outputs": []
    },
    {
      "cell_type": "code",
      "metadata": {
        "id": "GsKXSWZ8ntgg"
      },
      "source": [
        "# combine merged datasets\n",
        "\n",
        "df_Bal_Wil_merge = pd.concat([df_Bal_merge, df_Wil_merge], axis = 0, sort = False)"
      ],
      "execution_count": null,
      "outputs": []
    },
    {
      "cell_type": "code",
      "metadata": {
        "colab": {
          "base_uri": "https://localhost:8080/"
        },
        "id": "LbXcdGh0oZVl",
        "outputId": "d4ec3462-8391-4c60-9883-32bfe58e040f"
      },
      "source": [
        "df_Bal_Wil_merge.dropna"
      ],
      "execution_count": null,
      "outputs": [
        {
          "output_type": "execute_result",
          "data": {
            "text/plain": [
              "<bound method DataFrame.dropna of           tract  ... Household_Income_rP_gP_p25\n",
              "0   24005403601  ...                      53687\n",
              "1   24510271400  ...                      50567\n",
              "2   24510271501  ...                      46323\n",
              "3   24005491000  ...                      61635\n",
              "4   24510271300  ...                      29553\n",
              "..          ...  ...                        ...\n",
              "0    9001045101  ...                      49854\n",
              "1    9001045200  ...                      67466\n",
              "2    9001045300  ...                      76063\n",
              "3    9001045400  ...                      41668\n",
              "4    9001045102  ...                      46630\n",
              "\n",
              "[235 rows x 6 columns]>"
            ]
          },
          "metadata": {
            "tags": []
          },
          "execution_count": 249
        }
      ]
    },
    {
      "cell_type": "code",
      "metadata": {
        "colab": {
          "base_uri": "https://localhost:8080/",
          "height": 549
        },
        "id": "XWUo_ilkn9Dh",
        "outputId": "a4c8b24b-cfa3-4fb0-978c-eba0eb2310fc"
      },
      "source": [
        "df_Bal_Wil_merge.head(10)"
      ],
      "execution_count": null,
      "outputs": [
        {
          "output_type": "execute_result",
          "data": {
            "text/html": [
              "<div>\n",
              "<style scoped>\n",
              "    .dataframe tbody tr th:only-of-type {\n",
              "        vertical-align: middle;\n",
              "    }\n",
              "\n",
              "    .dataframe tbody tr th {\n",
              "        vertical-align: top;\n",
              "    }\n",
              "\n",
              "    .dataframe thead th {\n",
              "        text-align: right;\n",
              "    }\n",
              "</style>\n",
              "<table border=\"1\" class=\"dataframe\">\n",
              "  <thead>\n",
              "    <tr style=\"text-align: right;\">\n",
              "      <th></th>\n",
              "      <th>tract</th>\n",
              "      <th>Name</th>\n",
              "      <th>Household_Income_rP_gP_pall</th>\n",
              "      <th>Household_Income_rP_gP_p75</th>\n",
              "      <th>Household_Income_rP_gP_p50</th>\n",
              "      <th>Household_Income_rP_gP_p25</th>\n",
              "    </tr>\n",
              "  </thead>\n",
              "  <tbody>\n",
              "    <tr>\n",
              "      <th>0</th>\n",
              "      <td>24005403601</td>\n",
              "      <td>Baltimore, MD</td>\n",
              "      <td>75513.0</td>\n",
              "      <td>72321.0</td>\n",
              "      <td>62646.0</td>\n",
              "      <td>53687.0</td>\n",
              "    </tr>\n",
              "    <tr>\n",
              "      <th>1</th>\n",
              "      <td>24510271400</td>\n",
              "      <td>Baltimore, MD</td>\n",
              "      <td>71859.0</td>\n",
              "      <td>66504.0</td>\n",
              "      <td>58239.0</td>\n",
              "      <td>50567.0</td>\n",
              "    </tr>\n",
              "    <tr>\n",
              "      <th>2</th>\n",
              "      <td>24510271501</td>\n",
              "      <td>Baltimore, MD</td>\n",
              "      <td>69634.0</td>\n",
              "      <td>64860.0</td>\n",
              "      <td>55109.0</td>\n",
              "      <td>46323.0</td>\n",
              "    </tr>\n",
              "    <tr>\n",
              "      <th>4</th>\n",
              "      <td>24510271300</td>\n",
              "      <td>Baltimore, MD</td>\n",
              "      <td>68340.0</td>\n",
              "      <td>54760.0</td>\n",
              "      <td>41273.0</td>\n",
              "      <td>29553.0</td>\n",
              "    </tr>\n",
              "    <tr>\n",
              "      <th>5</th>\n",
              "      <td>24510271200</td>\n",
              "      <td>Baltimore, MD</td>\n",
              "      <td>66907.0</td>\n",
              "      <td>60343.0</td>\n",
              "      <td>49581.0</td>\n",
              "      <td>40094.0</td>\n",
              "    </tr>\n",
              "    <tr>\n",
              "      <th>6</th>\n",
              "      <td>24005490601</td>\n",
              "      <td>Baltimore, MD</td>\n",
              "      <td>64049.0</td>\n",
              "      <td>63814.0</td>\n",
              "      <td>57371.0</td>\n",
              "      <td>51258.0</td>\n",
              "    </tr>\n",
              "    <tr>\n",
              "      <th>7</th>\n",
              "      <td>24005490603</td>\n",
              "      <td>Baltimore, MD</td>\n",
              "      <td>63507.0</td>\n",
              "      <td>60709.0</td>\n",
              "      <td>55883.0</td>\n",
              "      <td>51212.0</td>\n",
              "    </tr>\n",
              "    <tr>\n",
              "      <th>8</th>\n",
              "      <td>24510271102</td>\n",
              "      <td>Baltimore, MD</td>\n",
              "      <td>62714.0</td>\n",
              "      <td>54886.0</td>\n",
              "      <td>38494.0</td>\n",
              "      <td>24403.0</td>\n",
              "    </tr>\n",
              "    <tr>\n",
              "      <th>9</th>\n",
              "      <td>24510120100</td>\n",
              "      <td>Baltimore, MD</td>\n",
              "      <td>60859.0</td>\n",
              "      <td>52921.0</td>\n",
              "      <td>40214.0</td>\n",
              "      <td>28995.0</td>\n",
              "    </tr>\n",
              "    <tr>\n",
              "      <th>11</th>\n",
              "      <td>24005403602</td>\n",
              "      <td>Baltimore, MD</td>\n",
              "      <td>58546.0</td>\n",
              "      <td>60236.0</td>\n",
              "      <td>54218.0</td>\n",
              "      <td>48514.0</td>\n",
              "    </tr>\n",
              "  </tbody>\n",
              "</table>\n",
              "</div>"
            ],
            "text/plain": [
              "          tract  ... Household_Income_rP_gP_p25\n",
              "0   24005403601  ...                    53687.0\n",
              "1   24510271400  ...                    50567.0\n",
              "2   24510271501  ...                    46323.0\n",
              "4   24510271300  ...                    29553.0\n",
              "5   24510271200  ...                    40094.0\n",
              "6   24005490601  ...                    51258.0\n",
              "7   24005490603  ...                    51212.0\n",
              "8   24510271102  ...                    24403.0\n",
              "9   24510120100  ...                    28995.0\n",
              "11  24005403602  ...                    48514.0\n",
              "\n",
              "[10 rows x 6 columns]"
            ]
          },
          "metadata": {
            "tags": []
          },
          "execution_count": 257
        }
      ]
    },
    {
      "cell_type": "code",
      "metadata": {
        "colab": {
          "base_uri": "https://localhost:8080/"
        },
        "id": "CG6LQmLVyrra",
        "outputId": "5aa20eb8-9092-4b5b-9673-197c9746383b"
      },
      "source": [
        "df_Bal_Wil_merge.info()"
      ],
      "execution_count": null,
      "outputs": [
        {
          "output_type": "stream",
          "text": [
            "<class 'pandas.core.frame.DataFrame'>\n",
            "Int64Index: 235 entries, 0 to 4\n",
            "Data columns (total 6 columns):\n",
            " #   Column                       Non-Null Count  Dtype \n",
            "---  ------                       --------------  ----- \n",
            " 0   tract                        235 non-null    int64 \n",
            " 1   Name                         235 non-null    object\n",
            " 2   Household_Income_rP_gP_pall  235 non-null    object\n",
            " 3   Household_Income_rP_gP_p75   235 non-null    object\n",
            " 4   Household_Income_rP_gP_p50   235 non-null    object\n",
            " 5   Household_Income_rP_gP_p25   235 non-null    object\n",
            "dtypes: int64(1), object(5)\n",
            "memory usage: 12.9+ KB\n"
          ],
          "name": "stdout"
        }
      ]
    },
    {
      "cell_type": "code",
      "metadata": {
        "id": "Ubzwjf8_zFL7"
      },
      "source": [
        "# remove \"void\"\n",
        "\n",
        "df_Bal_Wil_merge = df_Bal_Wil_merge[df_Bal_Wil_merge[\"Household_Income_rP_gP_pall\"] != \"void\"]\n",
        "df_Bal_Wil_merge = df_Bal_Wil_merge[df_Bal_Wil_merge[\"Household_Income_rP_gP_p75\"] != \"void\"]\n",
        "df_Bal_Wil_merge = df_Bal_Wil_merge[df_Bal_Wil_merge[\"Household_Income_rP_gP_p50\"] != \"void\"]\n",
        "df_Bal_Wil_merge = df_Bal_Wil_merge[df_Bal_Wil_merge[\"Household_Income_rP_gP_p25\"] != \"void\"]"
      ],
      "execution_count": null,
      "outputs": []
    },
    {
      "cell_type": "code",
      "metadata": {
        "id": "fEqy_usny2TX"
      },
      "source": [
        "# change datatype to float\n",
        "\n",
        "df_Bal_Wil_merge[\"Household_Income_rP_gP_pall\"] = df_Bal_Wil_merge[\"Household_Income_rP_gP_pall\"].astype(float)\n",
        "df_Bal_Wil_merge[\"Household_Income_rP_gP_p75\"] = df_Bal_Wil_merge[\"Household_Income_rP_gP_p75\"].astype(float)\n",
        "df_Bal_Wil_merge[\"Household_Income_rP_gP_p50\"] = df_Bal_Wil_merge[\"Household_Income_rP_gP_p50\"].astype(float)\n",
        "df_Bal_Wil_merge[\"Household_Income_rP_gP_p25\"] = df_Bal_Wil_merge[\"Household_Income_rP_gP_p25\"].astype(float)"
      ],
      "execution_count": null,
      "outputs": []
    },
    {
      "cell_type": "markdown",
      "metadata": {
        "id": "z_9MxHvnr_Hd"
      },
      "source": [
        "# Pivot Table for Average Household Income"
      ]
    },
    {
      "cell_type": "code",
      "metadata": {
        "id": "8Vynpbo1scmg"
      },
      "source": [
        "# pivot table\n",
        "\n",
        "df_pivot_income = pd.pivot_table(df_Bal_Wil_merge,\n",
        "                                 index = [\"Name\"],\n",
        "                                 values = [\"Household_Income_rP_gP_pall\", \"Household_Income_rP_gP_p75\", \"Household_Income_rP_gP_p50\", \"Household_Income_rP_gP_p25\"],\n",
        "                                 aggfunc = np.mean).reset_index()"
      ],
      "execution_count": null,
      "outputs": []
    },
    {
      "cell_type": "code",
      "metadata": {
        "colab": {
          "base_uri": "https://localhost:8080/",
          "height": 165
        },
        "id": "PIKTSniPxs8a",
        "outputId": "616a2bc4-06d3-40ba-c1c5-bba309b10977"
      },
      "source": [
        "# preview table\n",
        "\n",
        "df_pivot_income"
      ],
      "execution_count": null,
      "outputs": [
        {
          "output_type": "execute_result",
          "data": {
            "text/html": [
              "<div>\n",
              "<style scoped>\n",
              "    .dataframe tbody tr th:only-of-type {\n",
              "        vertical-align: middle;\n",
              "    }\n",
              "\n",
              "    .dataframe tbody tr th {\n",
              "        vertical-align: top;\n",
              "    }\n",
              "\n",
              "    .dataframe thead th {\n",
              "        text-align: right;\n",
              "    }\n",
              "</style>\n",
              "<table border=\"1\" class=\"dataframe\">\n",
              "  <thead>\n",
              "    <tr style=\"text-align: right;\">\n",
              "      <th></th>\n",
              "      <th>Name</th>\n",
              "      <th>Household_Income_rP_gP_p25</th>\n",
              "      <th>Household_Income_rP_gP_p50</th>\n",
              "      <th>Household_Income_rP_gP_p75</th>\n",
              "      <th>Household_Income_rP_gP_pall</th>\n",
              "    </tr>\n",
              "  </thead>\n",
              "  <tbody>\n",
              "    <tr>\n",
              "      <th>0</th>\n",
              "      <td>Baltimore, MD</td>\n",
              "      <td>24924.558036</td>\n",
              "      <td>32310.482143</td>\n",
              "      <td>40030.415179</td>\n",
              "      <td>30456.486607</td>\n",
              "    </tr>\n",
              "    <tr>\n",
              "      <th>1</th>\n",
              "      <td>Wilton, CT</td>\n",
              "      <td>56336.200000</td>\n",
              "      <td>62937.000000</td>\n",
              "      <td>70193.600000</td>\n",
              "      <td>77345.600000</td>\n",
              "    </tr>\n",
              "  </tbody>\n",
              "</table>\n",
              "</div>"
            ],
            "text/plain": [
              "            Name  ...  Household_Income_rP_gP_pall\n",
              "0  Baltimore, MD  ...                 30456.486607\n",
              "1     Wilton, CT  ...                 77345.600000\n",
              "\n",
              "[2 rows x 5 columns]"
            ]
          },
          "metadata": {
            "tags": []
          },
          "execution_count": 261
        }
      ]
    },
    {
      "cell_type": "markdown",
      "metadata": {
        "id": "KIzA08msv0-d"
      },
      "source": [
        "# Create Visual"
      ]
    },
    {
      "cell_type": "code",
      "metadata": {
        "colab": {
          "base_uri": "https://localhost:8080/",
          "height": 542
        },
        "id": "TCHzkBS-3wy_",
        "outputId": "95aff9b2-949c-4c7e-8c93-d222f4f62012"
      },
      "source": [
        "city = [\"Baltimore, MD\", \"Wilton, CT\"]\n",
        "\n",
        "bar_income = go.Figure(data=[\n",
        "            go.Bar(name = \"Average Child's Household Income from All Income Families\", x = city, y = df_pivot_income[\"Household_Income_rP_gP_pall\"]),\n",
        "            go.Bar(name = \"Average Child's Household Income Coming from a High Income Family\", x = city, y = df_pivot_income[\"Household_Income_rP_gP_p75\"]),\n",
        "            go.Bar(name = \"Average Child's Household Income Coming from a Middle Income Family\", x = city, y = df_pivot_income[\"Household_Income_rP_gP_p50\"]),\n",
        "            go.Bar(name = \"Average Child's Household Income Coming from a Low Income Family\", x = city, y = df_pivot_income[\"Household_Income_rP_gP_p25\"])\n",
        "])\n",
        "\n",
        "bar_income.update_layout(title = \"Average Child's Household Income by Family Income & City\",\n",
        "            xaxis_title = \"City\",\n",
        "            yaxis_title = \"Average Household Income\")"
      ],
      "execution_count": null,
      "outputs": [
        {
          "output_type": "display_data",
          "data": {
            "text/html": [
              "<html>\n",
              "<head><meta charset=\"utf-8\" /></head>\n",
              "<body>\n",
              "    <div>\n",
              "            <script src=\"https://cdnjs.cloudflare.com/ajax/libs/mathjax/2.7.5/MathJax.js?config=TeX-AMS-MML_SVG\"></script><script type=\"text/javascript\">if (window.MathJax) {MathJax.Hub.Config({SVG: {font: \"STIX-Web\"}});}</script>\n",
              "                <script type=\"text/javascript\">window.PlotlyConfig = {MathJaxConfig: 'local'};</script>\n",
              "        <script src=\"https://cdn.plot.ly/plotly-latest.min.js\"></script>    \n",
              "            <div id=\"adf5c536-87e3-49e4-8d86-185b73eda99a\" class=\"plotly-graph-div\" style=\"height:525px; width:100%;\"></div>\n",
              "            <script type=\"text/javascript\">\n",
              "                \n",
              "                    window.PLOTLYENV=window.PLOTLYENV || {};\n",
              "                    \n",
              "                if (document.getElementById(\"adf5c536-87e3-49e4-8d86-185b73eda99a\")) {\n",
              "                    Plotly.newPlot(\n",
              "                        'adf5c536-87e3-49e4-8d86-185b73eda99a',\n",
              "                        [{\"name\": \"Average Child's Household Income from All Income Families\", \"type\": \"bar\", \"x\": [\"Baltimore, MD\", \"Wilton, CT\"], \"y\": [30456.48660714286, 77345.6]}, {\"name\": \"Average Child's Household Income Coming from a High Income Family\", \"type\": \"bar\", \"x\": [\"Baltimore, MD\", \"Wilton, CT\"], \"y\": [40030.41517857143, 70193.6]}, {\"name\": \"Average Child's Household Income Coming from a Middle Income Family\", \"type\": \"bar\", \"x\": [\"Baltimore, MD\", \"Wilton, CT\"], \"y\": [32310.48214285714, 62937.0]}, {\"name\": \"Average Child's Household Income Coming from a Low Income Family\", \"type\": \"bar\", \"x\": [\"Baltimore, MD\", \"Wilton, CT\"], \"y\": [24924.558035714286, 56336.2]}],\n",
              "                        {\"template\": {\"data\": {\"bar\": [{\"error_x\": {\"color\": \"#2a3f5f\"}, \"error_y\": {\"color\": \"#2a3f5f\"}, \"marker\": {\"line\": {\"color\": \"#E5ECF6\", \"width\": 0.5}}, \"type\": \"bar\"}], \"barpolar\": [{\"marker\": {\"line\": {\"color\": \"#E5ECF6\", \"width\": 0.5}}, \"type\": \"barpolar\"}], \"carpet\": [{\"aaxis\": {\"endlinecolor\": \"#2a3f5f\", \"gridcolor\": \"white\", \"linecolor\": \"white\", \"minorgridcolor\": \"white\", \"startlinecolor\": \"#2a3f5f\"}, \"baxis\": {\"endlinecolor\": \"#2a3f5f\", \"gridcolor\": \"white\", \"linecolor\": \"white\", \"minorgridcolor\": \"white\", \"startlinecolor\": \"#2a3f5f\"}, \"type\": \"carpet\"}], \"choropleth\": [{\"colorbar\": {\"outlinewidth\": 0, \"ticks\": \"\"}, \"type\": \"choropleth\"}], \"contour\": [{\"colorbar\": {\"outlinewidth\": 0, \"ticks\": \"\"}, \"colorscale\": [[0.0, \"#0d0887\"], [0.1111111111111111, \"#46039f\"], [0.2222222222222222, \"#7201a8\"], [0.3333333333333333, \"#9c179e\"], [0.4444444444444444, \"#bd3786\"], [0.5555555555555556, \"#d8576b\"], [0.6666666666666666, \"#ed7953\"], [0.7777777777777778, \"#fb9f3a\"], [0.8888888888888888, \"#fdca26\"], [1.0, \"#f0f921\"]], \"type\": \"contour\"}], \"contourcarpet\": [{\"colorbar\": {\"outlinewidth\": 0, \"ticks\": \"\"}, \"type\": \"contourcarpet\"}], \"heatmap\": [{\"colorbar\": {\"outlinewidth\": 0, \"ticks\": \"\"}, \"colorscale\": [[0.0, \"#0d0887\"], [0.1111111111111111, \"#46039f\"], [0.2222222222222222, \"#7201a8\"], [0.3333333333333333, \"#9c179e\"], [0.4444444444444444, \"#bd3786\"], [0.5555555555555556, \"#d8576b\"], [0.6666666666666666, \"#ed7953\"], [0.7777777777777778, \"#fb9f3a\"], [0.8888888888888888, \"#fdca26\"], [1.0, \"#f0f921\"]], \"type\": \"heatmap\"}], \"heatmapgl\": [{\"colorbar\": {\"outlinewidth\": 0, \"ticks\": \"\"}, \"colorscale\": [[0.0, \"#0d0887\"], [0.1111111111111111, \"#46039f\"], [0.2222222222222222, \"#7201a8\"], [0.3333333333333333, \"#9c179e\"], [0.4444444444444444, \"#bd3786\"], [0.5555555555555556, \"#d8576b\"], [0.6666666666666666, \"#ed7953\"], [0.7777777777777778, \"#fb9f3a\"], [0.8888888888888888, \"#fdca26\"], [1.0, \"#f0f921\"]], \"type\": \"heatmapgl\"}], \"histogram\": [{\"marker\": {\"colorbar\": {\"outlinewidth\": 0, \"ticks\": \"\"}}, \"type\": \"histogram\"}], \"histogram2d\": [{\"colorbar\": {\"outlinewidth\": 0, \"ticks\": \"\"}, \"colorscale\": [[0.0, \"#0d0887\"], [0.1111111111111111, \"#46039f\"], [0.2222222222222222, \"#7201a8\"], [0.3333333333333333, \"#9c179e\"], [0.4444444444444444, \"#bd3786\"], [0.5555555555555556, \"#d8576b\"], [0.6666666666666666, \"#ed7953\"], [0.7777777777777778, \"#fb9f3a\"], [0.8888888888888888, \"#fdca26\"], [1.0, \"#f0f921\"]], \"type\": \"histogram2d\"}], \"histogram2dcontour\": [{\"colorbar\": {\"outlinewidth\": 0, \"ticks\": \"\"}, \"colorscale\": [[0.0, \"#0d0887\"], [0.1111111111111111, \"#46039f\"], [0.2222222222222222, \"#7201a8\"], [0.3333333333333333, \"#9c179e\"], [0.4444444444444444, \"#bd3786\"], [0.5555555555555556, \"#d8576b\"], [0.6666666666666666, \"#ed7953\"], [0.7777777777777778, \"#fb9f3a\"], [0.8888888888888888, \"#fdca26\"], [1.0, \"#f0f921\"]], \"type\": \"histogram2dcontour\"}], \"mesh3d\": [{\"colorbar\": {\"outlinewidth\": 0, \"ticks\": \"\"}, \"type\": \"mesh3d\"}], \"parcoords\": [{\"line\": {\"colorbar\": {\"outlinewidth\": 0, \"ticks\": \"\"}}, \"type\": \"parcoords\"}], \"pie\": [{\"automargin\": true, \"type\": \"pie\"}], \"scatter\": [{\"marker\": {\"colorbar\": {\"outlinewidth\": 0, \"ticks\": \"\"}}, \"type\": \"scatter\"}], \"scatter3d\": [{\"line\": {\"colorbar\": {\"outlinewidth\": 0, \"ticks\": \"\"}}, \"marker\": {\"colorbar\": {\"outlinewidth\": 0, \"ticks\": \"\"}}, \"type\": \"scatter3d\"}], \"scattercarpet\": [{\"marker\": {\"colorbar\": {\"outlinewidth\": 0, \"ticks\": \"\"}}, \"type\": \"scattercarpet\"}], \"scattergeo\": [{\"marker\": {\"colorbar\": {\"outlinewidth\": 0, \"ticks\": \"\"}}, \"type\": \"scattergeo\"}], \"scattergl\": [{\"marker\": {\"colorbar\": {\"outlinewidth\": 0, \"ticks\": \"\"}}, \"type\": \"scattergl\"}], \"scattermapbox\": [{\"marker\": {\"colorbar\": {\"outlinewidth\": 0, \"ticks\": \"\"}}, \"type\": \"scattermapbox\"}], \"scatterpolar\": [{\"marker\": {\"colorbar\": {\"outlinewidth\": 0, \"ticks\": \"\"}}, \"type\": \"scatterpolar\"}], \"scatterpolargl\": [{\"marker\": {\"colorbar\": {\"outlinewidth\": 0, \"ticks\": \"\"}}, \"type\": \"scatterpolargl\"}], \"scatterternary\": [{\"marker\": {\"colorbar\": {\"outlinewidth\": 0, \"ticks\": \"\"}}, \"type\": \"scatterternary\"}], \"surface\": [{\"colorbar\": {\"outlinewidth\": 0, \"ticks\": \"\"}, \"colorscale\": [[0.0, \"#0d0887\"], [0.1111111111111111, \"#46039f\"], [0.2222222222222222, \"#7201a8\"], [0.3333333333333333, \"#9c179e\"], [0.4444444444444444, \"#bd3786\"], [0.5555555555555556, \"#d8576b\"], [0.6666666666666666, \"#ed7953\"], [0.7777777777777778, \"#fb9f3a\"], [0.8888888888888888, \"#fdca26\"], [1.0, \"#f0f921\"]], \"type\": \"surface\"}], \"table\": [{\"cells\": {\"fill\": {\"color\": \"#EBF0F8\"}, \"line\": {\"color\": \"white\"}}, \"header\": {\"fill\": {\"color\": \"#C8D4E3\"}, \"line\": {\"color\": \"white\"}}, \"type\": \"table\"}]}, \"layout\": {\"annotationdefaults\": {\"arrowcolor\": \"#2a3f5f\", \"arrowhead\": 0, \"arrowwidth\": 1}, \"coloraxis\": {\"colorbar\": {\"outlinewidth\": 0, \"ticks\": \"\"}}, \"colorscale\": {\"diverging\": [[0, \"#8e0152\"], [0.1, \"#c51b7d\"], [0.2, \"#de77ae\"], [0.3, \"#f1b6da\"], [0.4, \"#fde0ef\"], [0.5, \"#f7f7f7\"], [0.6, \"#e6f5d0\"], [0.7, \"#b8e186\"], [0.8, \"#7fbc41\"], [0.9, \"#4d9221\"], [1, \"#276419\"]], \"sequential\": [[0.0, \"#0d0887\"], [0.1111111111111111, \"#46039f\"], [0.2222222222222222, \"#7201a8\"], [0.3333333333333333, \"#9c179e\"], [0.4444444444444444, \"#bd3786\"], [0.5555555555555556, \"#d8576b\"], [0.6666666666666666, \"#ed7953\"], [0.7777777777777778, \"#fb9f3a\"], [0.8888888888888888, \"#fdca26\"], [1.0, \"#f0f921\"]], \"sequentialminus\": [[0.0, \"#0d0887\"], [0.1111111111111111, \"#46039f\"], [0.2222222222222222, \"#7201a8\"], [0.3333333333333333, \"#9c179e\"], [0.4444444444444444, \"#bd3786\"], [0.5555555555555556, \"#d8576b\"], [0.6666666666666666, \"#ed7953\"], [0.7777777777777778, \"#fb9f3a\"], [0.8888888888888888, \"#fdca26\"], [1.0, \"#f0f921\"]]}, \"colorway\": [\"#636efa\", \"#EF553B\", \"#00cc96\", \"#ab63fa\", \"#FFA15A\", \"#19d3f3\", \"#FF6692\", \"#B6E880\", \"#FF97FF\", \"#FECB52\"], \"font\": {\"color\": \"#2a3f5f\"}, \"geo\": {\"bgcolor\": \"white\", \"lakecolor\": \"white\", \"landcolor\": \"#E5ECF6\", \"showlakes\": true, \"showland\": true, \"subunitcolor\": \"white\"}, \"hoverlabel\": {\"align\": \"left\"}, \"hovermode\": \"closest\", \"mapbox\": {\"style\": \"light\"}, \"paper_bgcolor\": \"white\", \"plot_bgcolor\": \"#E5ECF6\", \"polar\": {\"angularaxis\": {\"gridcolor\": \"white\", \"linecolor\": \"white\", \"ticks\": \"\"}, \"bgcolor\": \"#E5ECF6\", \"radialaxis\": {\"gridcolor\": \"white\", \"linecolor\": \"white\", \"ticks\": \"\"}}, \"scene\": {\"xaxis\": {\"backgroundcolor\": \"#E5ECF6\", \"gridcolor\": \"white\", \"gridwidth\": 2, \"linecolor\": \"white\", \"showbackground\": true, \"ticks\": \"\", \"zerolinecolor\": \"white\"}, \"yaxis\": {\"backgroundcolor\": \"#E5ECF6\", \"gridcolor\": \"white\", \"gridwidth\": 2, \"linecolor\": \"white\", \"showbackground\": true, \"ticks\": \"\", \"zerolinecolor\": \"white\"}, \"zaxis\": {\"backgroundcolor\": \"#E5ECF6\", \"gridcolor\": \"white\", \"gridwidth\": 2, \"linecolor\": \"white\", \"showbackground\": true, \"ticks\": \"\", \"zerolinecolor\": \"white\"}}, \"shapedefaults\": {\"line\": {\"color\": \"#2a3f5f\"}}, \"ternary\": {\"aaxis\": {\"gridcolor\": \"white\", \"linecolor\": \"white\", \"ticks\": \"\"}, \"baxis\": {\"gridcolor\": \"white\", \"linecolor\": \"white\", \"ticks\": \"\"}, \"bgcolor\": \"#E5ECF6\", \"caxis\": {\"gridcolor\": \"white\", \"linecolor\": \"white\", \"ticks\": \"\"}}, \"title\": {\"x\": 0.05}, \"xaxis\": {\"automargin\": true, \"gridcolor\": \"white\", \"linecolor\": \"white\", \"ticks\": \"\", \"title\": {\"standoff\": 15}, \"zerolinecolor\": \"white\", \"zerolinewidth\": 2}, \"yaxis\": {\"automargin\": true, \"gridcolor\": \"white\", \"linecolor\": \"white\", \"ticks\": \"\", \"title\": {\"standoff\": 15}, \"zerolinecolor\": \"white\", \"zerolinewidth\": 2}}}, \"title\": {\"text\": \"Average Child's Household Income by Family Income & City\"}, \"xaxis\": {\"title\": {\"text\": \"City\"}}, \"yaxis\": {\"title\": {\"text\": \"Average Household Income\"}}},\n",
              "                        {\"responsive\": true}\n",
              "                    ).then(function(){\n",
              "                            \n",
              "var gd = document.getElementById('adf5c536-87e3-49e4-8d86-185b73eda99a');\n",
              "var x = new MutationObserver(function (mutations, observer) {{\n",
              "        var display = window.getComputedStyle(gd).display;\n",
              "        if (!display || display === 'none') {{\n",
              "            console.log([gd, 'removed!']);\n",
              "            Plotly.purge(gd);\n",
              "            observer.disconnect();\n",
              "        }}\n",
              "}});\n",
              "\n",
              "// Listen for the removal of the full notebook cells\n",
              "var notebookContainer = gd.closest('#notebook-container');\n",
              "if (notebookContainer) {{\n",
              "    x.observe(notebookContainer, {childList: true});\n",
              "}}\n",
              "\n",
              "// Listen for the clearing of the current output cell\n",
              "var outputEl = gd.closest('.output');\n",
              "if (outputEl) {{\n",
              "    x.observe(outputEl, {childList: true});\n",
              "}}\n",
              "\n",
              "                        })\n",
              "                };\n",
              "                \n",
              "            </script>\n",
              "        </div>\n",
              "</body>\n",
              "</html>"
            ]
          },
          "metadata": {
            "tags": []
          }
        }
      ]
    },
    {
      "cell_type": "code",
      "metadata": {
        "id": "AffqaPVZTBK7"
      },
      "source": [
        ""
      ],
      "execution_count": null,
      "outputs": []
    }
  ]
}